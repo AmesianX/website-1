{
 "cells": [
  {
   "cell_type": "code",
   "execution_count": 8,
   "metadata": {
    "collapsed": true
   },
   "outputs": [],
   "source": [
    "from flask import render_template\n",
    "import flask\n",
    "import markdown2\n",
    "import os"
   ]
  },
  {
   "cell_type": "code",
   "execution_count": 78,
   "metadata": {
    "collapsed": false
   },
   "outputs": [],
   "source": [
    "app = flask.Flask('my app')\n",
    "dir_path = 'data/markdown/'"
   ]
  },
  {
   "cell_type": "code",
   "execution_count": 79,
   "metadata": {
    "collapsed": true
   },
   "outputs": [],
   "source": [
    "def create_home_address():\n",
    "    return '<a href=\"index.html\">목록으로</a>'\n",
    "def create_prev_address(file_path, file_name):\n",
    "    return '<a href=\"{0}\">이전으로 - {1}</a>'.format(file_path[:-2]+'html', file_name[6:-3].replace('-', ' '))\n",
    "def create_next_address(file_path, file_name):\n",
    "    return '<a href=\"{0}\">다음으로 - {1}</a>'.format(file_path[:-2]+'html', file_name[6:-3].replace('-', ' '))"
   ]
  },
  {
   "cell_type": "code",
   "execution_count": 81,
   "metadata": {
    "collapsed": false
   },
   "outputs": [
    {
     "name": "stdout",
     "output_type": "stream",
     "text": [
      "0-1-1-식민지의-아이러니.md -> 0-1-1-식민지의-아이러니.html\n",
      "0-2-1-다시-생산적인-논의를-위해서.md -> 0-2-1-다시-생산적인-논의를-위해서.html\n",
      "1-1-1-죄와-범죄.md -> 1-1-1-죄와-범죄.html\n",
      "1-1-2-위안부의-전신-가라유키상.md -> 1-1-2-위안부의-전신-가라유키상.html\n",
      "1-1-3-우리-안의-협력자들.md -> 1-1-3-우리-안의-협력자들.html\n",
      "1-1-4-강제로-모집된-정신대.md -> 1-1-4-강제로-모집된-정신대.html\n",
      "1-1-5-소녀-20만의-기억.md -> 1-1-5-소녀-20만의-기억.html\n",
      "1-2-1-일본군과-조신인-위안부.md -> 1-2-1-일본군과-조신인-위안부.html\n",
      "1-2-2-전쟁터의-포주들.md -> 1-2-2-전쟁터의-포주들.html\n",
      "1-3-1-일본인에서-조선인으로.md -> 1-3-1-일본인에서-조선인으로.html\n",
      "1-3-2-극한상황-속에서.md -> 1-3-2-극한상황-속에서.html\n",
      "2-1-1-근본적인-오해.md -> 2-1-1-근본적인-오해.html\n",
      "2-1-2-정보-은폐와-공적기억-만들기.md -> 2-1-2-정보-은폐와-공적기억-만들기.html\n",
      "2-1-3-억압으로서의-성노예상.md -> 2-1-3-억압으로서의-성노예상.html\n",
      "2-1-4-박물관의-위안부.md -> 2-1-4-박물관의-위안부.html\n",
      "2-1-5-소거되는-기억들.md -> 2-1-5-소거되는-기억들.html\n",
      "2-2-1-하나뿐인-조선인-위안부-이야기.md -> 2-2-1-하나뿐인-조선인-위안부-이야기.html\n",
      "2-3-1-공모하는-욕망들.md -> 2-3-1-공모하는-욕망들.html\n",
      "2-4-1-페미니즘의-모순.md -> 2-4-1-페미니즘의-모순.html\n",
      "2-4-2-가해자란-누구인가.md -> 2-4-2-가해자란-누구인가.html\n",
      "2-5-1-조선인-위안부란-누구인가.md -> 2-5-1-조선인-위안부란-누구인가.html\n",
      "2-5-2-관여-주체는-누구인가.md -> 2-5-2-관여-주체는-누구인가.html\n",
      "2-5-3-그들만의-법.md -> 2-5-3-그들만의-법.html\n",
      "2-5-4-애국하는-위안부.md -> 2-5-4-애국하는-위안부.html\n",
      "3-1-1-위안부-문제의-발생과-경과.md -> 3-1-1-위안부-문제의-발생과-경과.html\n",
      "3-1-2-고노담화와-강제성.md -> 3-1-2-고노담화와-강제성.html\n",
      "3-1-3-여야가-합의한-아시아여성기금.md -> 3-1-3-여야가-합의한-아시아여성기금.html\n",
      "3-1-4-사죄수단으로서의-기금.md -> 3-1-4-사죄수단으로서의-기금.html\n",
      "3-1-5-위로금인가-속죄금인가.md -> 3-1-5-위로금인가-속죄금인가.html\n",
      "3-1-6-위안부-지원단체의-분열과-당사자주의의-모순.md -> 3-1-6-위안부-지원단체의-분열과-당사자주의의-모순.html\n",
      "3-2-1-위안부-문제의-도구화.md -> 3-2-1-위안부-문제의-도구화.html\n",
      "3-2-2-정부에-대한-불신과-운동의-정치화.md -> 3-2-2-정부에-대한-불신과-운동의-정치화.html\n",
      "3-2-3-지원운동의-변화와-향방.md -> 3-2-3-지원운동의-변화와-향방.html\n",
      "3-3-1-서울-정대협-운동의-공과.md -> 3-3-1-서울-정대협-운동의-공과.html\n",
      "3-3-2-서울-정대협의-요구를-다시-생각한다.md -> 3-3-2-서울-정대협의-요구를-다시-생각한다.html\n",
      "3-3-3-헌법재판소의-판결을-읽는다.md -> 3-3-3-헌법재판소의-판결을-읽는다.html\n",
      "3-4-1-쿠마라스와미-보고서.md -> 3-4-1-쿠마라스와미-보고서.html\n",
      "3-4-2-맥두걸-보고서의-최종보고.md -> 3-4-2-맥두걸-보고서의-최종보고.html\n",
      "3-4-3-미하원의-위안부-결의안.md -> 3-4-3-미하원의-위안부-결의안.html\n",
      "3-4-4-ILO-조약권고적용전문가위원회의-소견.md -> 3-4-4-ILO-조약권고적용전문가위원회의-소견.html\n",
      "3-4-5-사라진-조선인-위안부-문제.md -> 3-4-5-사라진-조선인-위안부-문제.html\n",
      "3-5-1-1965년-한일협정의-한계.md -> 3-5-1-1965년-한일협정의-한계.html\n",
      "3-5-2-미완의-1990년대-사죄와 보상.md -> 3-5-2-미완의-1990년대-사죄와 보상.html\n",
      "3-5-3-세계의-시각과-일본의-역할.md -> 3-5-3-세계의-시각과-일본의-역할.html\n",
      "4-1-1-위안부와-제국.md -> 4-1-1-위안부와-제국.html\n",
      "4-1-2-위안부와-미국.md -> 4-1-2-위안부와-미국.html\n",
      "4-1-3-위안부와-한국.md -> 4-1-3-위안부와-한국.html\n",
      "4-2-1-식민지의-모순.md -> 4-2-1-식민지의-모순.html\n",
      "4-2-2-냉전의-사고.md -> 4-2-2-냉전의-사고.html\n",
      "4-2-3-해결을-위해.md -> 4-2-3-해결을-위해.html\n",
      "5-1-1-후기.md -> 5-1-1-후기.html\n",
      "5-2-1-참고문헌.md -> 5-2-1-참고문헌.html\n",
      "6-1-1-들리지-않았던-목소리들.md -> 6-1-1-들리지-않았던-목소리들.html\n",
      "6-1-2-조선인-위안부와-법.md -> 6-1-2-조선인-위안부와-법.html\n",
      "6-1-3-일본의-부정의-문제.md -> 6-1-3-일본의-부정의-문제.html\n",
      "6-1-4-한국의-운동방식과-결과.md -> 6-1-4-한국의-운동방식과-결과.html\n",
      "6-1-5-말할수없는-구조를-넘어.md -> 6-1-5-말할수없는-구조를-넘어.html\n",
      "6-2-1-일본의-역사가들을-지지하는-성명.md -> 6-2-1-일본의-역사가들을-지지하는-성명.html\n",
      "index.md -> index.html\n"
     ]
    }
   ],
   "source": [
    "file_names = os.listdir(dir_path)\n",
    "file_count = len(file_names)\n",
    "file_zip = list(zip(range(file_count),file_names))\n",
    "\n",
    "for idx, file_name in file_zip:\n",
    "    with open(dir_path+file_name, 'r', encoding='utf-8') as f:\n",
    "        text = f.read()\n",
    "        md = markdown2.markdown(text)\n",
    "    with app.app_context():\n",
    "        prev_link = create_prev_address(file_zip[idx-1][1], file_zip[idx-1][1]) if idx>0 else ''\n",
    "        next_link = create_next_address(file_zip[idx+1][1], file_zip[idx+1][1]) if idx<file_count-1 else ''\n",
    "        rendered = render_template('book.html',\n",
    "                                   title=file_name[:-2] if file_name.find('index')<0 else '제국의 위안부 E-Book', \n",
    "                                   home_link=create_home_address() if file_name.find('index')<0 else '',\n",
    "                                   prev_link=prev_link if file_name.find('index')<0 else '',\n",
    "                                   next_link=next_link if file_name.find('index')<0 else '',\n",
    "                                   content=md)\n",
    "    with open('../../books/제국의위안부/'+file_name[:-2]+'html', 'w', encoding='utf-8') as f:\n",
    "        f.write(rendered)\n",
    "        print(file_name+' -> '+file_name[:-2]+'html')\n",
    "#     break"
   ]
  }
 ],
 "metadata": {
  "kernelspec": {
   "display_name": "Python 3",
   "language": "python",
   "name": "python3"
  },
  "language_info": {
   "codemirror_mode": {
    "name": "ipython",
    "version": 3
   },
   "file_extension": ".py",
   "mimetype": "text/x-python",
   "name": "python",
   "nbconvert_exporter": "python",
   "pygments_lexer": "ipython3",
   "version": "3.5.2"
  }
 },
 "nbformat": 4,
 "nbformat_minor": 2
}
